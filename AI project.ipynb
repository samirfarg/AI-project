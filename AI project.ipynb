{
 "cells": [
  {
   "cell_type": "code",
   "execution_count": 1,
   "metadata": {
    "scrolled": true
   },
   "outputs": [
    {
     "name": "stdout",
     "output_type": "stream",
     "text": [
      "(1, 1, 1, 1)\n",
      "(1, 0, 1, 1)\n",
      "(1, 0, 1, 0)\n",
      "(0, 0, 1, 0)\n",
      "(0, 0, 0, 0)\n"
     ]
    }
   ],
   "source": [
    "def is_valid(state):\n",
    "    if state[1] == state[2] and state[0] != state[1]:\n",
    "        return False\n",
    "    if state[0] == state[1] and state[0] != state[3]:\n",
    "        return False\n",
    "    return True\n",
    "\n",
    "def solve():\n",
    "    initial_state = (1, 1, 1, 1) # (wolf, goat, cabbage, boat)\n",
    "    goal_state = (0, 0, 0, 0)\n",
    "    queue = [initial_state]\n",
    "    visited = set()\n",
    "    parent = {}\n",
    "    while queue:\n",
    "        current_state = queue.pop(0)\n",
    "        if current_state == goal_state:\n",
    "            path = [current_state]\n",
    "            while current_state != initial_state:\n",
    "                current_state = parent[current_state]\n",
    "                path.append(current_state)\n",
    "            return path[::-1]\n",
    "        for i in range(4):\n",
    "            new_state = list(current_state)\n",
    "            new_state[i] = 1 - new_state[i]\n",
    "            if is_valid(new_state) and tuple(new_state) not in visited:\n",
    "                queue.append(tuple(new_state))\n",
    "                visited.add(tuple(new_state))\n",
    "                parent[tuple(new_state)] = current_state\n",
    "    return None\n",
    "\n",
    "path = solve()\n",
    "\n",
    "if path:\n",
    "    for state in path:\n",
    "        print(state)\n",
    "else:\n",
    "    print(\"No solution found.\")"
   ]
  }
 ],
 "metadata": {
  "kernelspec": {
   "display_name": "Python 3",
   "language": "python",
   "name": "python3"
  },
  "language_info": {
   "codemirror_mode": {
    "name": "ipython",
    "version": 3
   },
   "file_extension": ".py",
   "mimetype": "text/x-python",
   "name": "python",
   "nbconvert_exporter": "python",
   "pygments_lexer": "ipython3",
   "version": "3.8.5"
  }
 },
 "nbformat": 4,
 "nbformat_minor": 4
}
